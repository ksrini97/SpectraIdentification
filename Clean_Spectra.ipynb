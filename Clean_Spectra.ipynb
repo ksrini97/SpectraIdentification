{
 "cells": [
  {
   "cell_type": "code",
   "execution_count": null,
   "id": "443390fd",
   "metadata": {},
   "outputs": [],
   "source": [
    "import pandas as pd\n",
    "import numpy as np\n",
    "from os import path,listdir\n",
    "from BaselineRemoval import BaselineRemoval\n",
    "from scipy.signal import savgol_filter\n",
    "import matplotlib.pyplot as plt"
   ]
  },
  {
   "cell_type": "code",
   "execution_count": null,
   "id": "7adb3757",
   "metadata": {},
   "outputs": [],
   "source": [
    "wavenumber=np.array(range(400,4001,4))\n",
    "dict={}\n",
    "dict['lambda']=wavenumber\n",
    "path = r'C:\\Users\\ks\\Desktop\\Spectra Identification\\IR'\n",
    "list_files=listdir(path)\n",
    "\n",
    "num_cleaned=0\n",
    "failure=[]\n",
    "for files in list_files:\n",
    "    df=pd.read_csv(path.join(path,files),header=0)\n",
    "    Data1=df['x'].to_numpy()\n",
    "    Data2=df['y'].to_numpy() \n",
    "    ind=Data1.argsort() # Sort wavenumber and absorbance\n",
    "    X=Data1[ind]\n",
    "    Y=Data2[ind]\n",
    "    y_new=[]\n",
    "    \n",
    "    if X.shape[0] == 0:\n",
    "        failure.append(files) # Remove empty files\n",
    "        continue\n",
    "    if Y.shape[0] == 0:\n",
    "        failure.append(files) # Remove empty files\n",
    "        continue\n",
    "    if X[-1]<=400:\n",
    "        failure.append(files) # Remove spectra below minimum wavenumber range\n",
    "        continue\n",
    "    if X[0]>=4000:\n",
    "        failure.append(files) # Remove spectra above maximum wavenumber range\n",
    "        continue\n",
    "        \n",
    "    \n",
    "    Basobj=BaselineRemoval(Y)\n",
    "    \n",
    "    try:\n",
    "     \n",
    "        Y=Basobj.ZhangFit()\n",
    "        #Y=Basobj.IModPoly(degree =3)\n",
    "    except:\n",
    "        failure.append(files)\n",
    "        continue\n",
    "    Y=savgol_filter(Y,19,3)\n",
    "# Rest of the code finds the wavenumber in data closest to each wavenumber in chosen range at chosen resolution and maps the absorbances\n",
    "    if X[0] <= 400:\n",
    "        if X[-1]<4000:\n",
    "            dummy=np.square(wavenumber-X[-1])\n",
    "            index2=np.argmin(dummy)\n",
    "        else:\n",
    "            index2=900\n",
    "            \n",
    "        for w in wavenumber[:index2+1]:\n",
    "            dummy= np.square(X-w)\n",
    "            ind=np.argmin(dummy)\n",
    "            y_new.append(Y[ind])\n",
    "        if index2!=900:\n",
    "            for i in range(index2+1,901):\n",
    "                y_new.append(0)\n",
    "                \n",
    "    if X[0]>400:\n",
    "        dummy=np.square(wavenumber-X[0])\n",
    "        index=np.argmin(dummy)\n",
    "        if X[-1]<4000:\n",
    "            dummy=np.square(wavenumber-X[-1])\n",
    "            index2=np.argmin(dummy)\n",
    "        else:\n",
    "            index2=900\n",
    "        y_new=[0]*(index)\n",
    "        for w in wavenumber[index:index2+1]:\n",
    "            dummy= np.square(X-w)\n",
    "            ind=np.argmin(dummy)\n",
    "            y_new.append(Y[ind])\n",
    "        if index2!=900:\n",
    "            for i in range(index2+1,901):\n",
    "                y_new.append(0)\n",
    "\n",
    "    dict[files]=y_new\n",
    "    num_cleaned+=1\n",
    "    \n",
    "    print('Number Cleaned:{}. Length of y:{}'.format(num_cleaned,len(y_new)))\n",
    "    \n",
    "    \n",
    "df=pd.DataFrame(dict)\n",
    "df.to_csv(path.join(path,'BaselineCorrected'+'.csv'))\n",
    "    "
   ]
  },
  {
   "cell_type": "code",
   "execution_count": null,
   "id": "1304bc95",
   "metadata": {},
   "outputs": [],
   "source": [
    "dict"
   ]
  },
  {
   "cell_type": "code",
   "execution_count": null,
   "id": "cdd5db89",
   "metadata": {},
   "outputs": [],
   "source": [
    "df=pd.DataFrame(dict)\n",
    "df.to_csv('Bio_5comp_Baseline.csv')\n"
   ]
  },
  {
   "cell_type": "code",
   "execution_count": null,
   "id": "1a5ae754",
   "metadata": {},
   "outputs": [],
   "source": [
    "for f in failure:\n",
    "    with open(r'C:\\Users\\Karthik\\Desktop\\Spectra Identification\\Clean_Failure_baseline.txt','a')  as file:\n",
    "            content = '{}\\n'.format(f)\n",
    "            file.write(content)"
   ]
  },
  {
   "cell_type": "code",
   "execution_count": null,
   "id": "9ba4937e",
   "metadata": {},
   "outputs": [],
   "source": [
    "failure"
   ]
  },
  {
   "cell_type": "code",
   "execution_count": null,
   "id": "914c21df",
   "metadata": {},
   "outputs": [],
   "source": []
  }
 ],
 "metadata": {
  "kernelspec": {
   "display_name": "Python 3 (ipykernel)",
   "language": "python",
   "name": "python3"
  },
  "language_info": {
   "codemirror_mode": {
    "name": "ipython",
    "version": 3
   },
   "file_extension": ".py",
   "mimetype": "text/x-python",
   "name": "python",
   "nbconvert_exporter": "python",
   "pygments_lexer": "ipython3",
   "version": "3.9.12"
  }
 },
 "nbformat": 4,
 "nbformat_minor": 5
}
