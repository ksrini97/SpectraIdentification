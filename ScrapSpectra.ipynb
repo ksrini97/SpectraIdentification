{
 "cells": [
  {
   "cell_type": "code",
   "execution_count": null,
   "id": "27505406",
   "metadata": {},
   "outputs": [],
   "source": [
    "import pandas as pd \n",
    "import requests,urllib\n",
    "from os import listdir\n",
    "\n",
    "CAS_path = r'C:\\Users\\Karthik\\Desktop\\Spectra Identification\\CAS.csv' # CAS ID for all molecules\n",
    "params={'JCAMP': '', 'Type': 'IR', 'Index': 0}\n",
    "cas_df = pd.read_csv(CAS_path, names = ['cas'], header = None)\n",
    "cas_df.cas = cas_df.cas.str.replace('-', '')\n",
    "\n",
    "cas_ids = list(cas_df.cas)"
   ]
  },
  {
   "cell_type": "code",
   "execution_count": null,
   "id": "41523fed",
   "metadata": {},
   "outputs": [],
   "source": [
    "params={'JCAMP': '', 'Type': 'IR', 'Index': 0}\n",
    "params_InChi={}\n",
    "num_created=0\n",
    "nist_url = \"https://webbook.nist.gov/cgi/cbook.cgi\"\n",
    "for cas in cas_ids:\n",
    "    params['JCAMP'] = 'C' + cas\n",
    "    params_InChi['GetInChI']='C'+cas\n",
    "    response = requests.get(nist_url, params=params)\n",
    "    if response.text == '##TITLE=Spectrum not found.\\n##END=\\n':\n",
    "        continue\n",
    "    num_created+=1\n",
    "    response_InChi = requests.get(nist_url, params=params_InChi)\n",
    "    print('Creating spectra for id {}. Total Spectra: {}.'.format(cas,num_created))\n",
    "    with open(r'C:\\Users\\Karthik\\Desktop\\Spectra Identification\\IR\\IR_' +cas +'.jdx', 'wb') as data: #Modify to store in directory of choice\n",
    "        data.write(response.content)\n",
    "    with open(r'C:\\Users\\Karthik\\Desktop\\Spectra Identification\\InChI.txt','a')  as file: #Modify to store in directory of choice\n",
    "        content = '{}\\t{}\\n'.format(cas,response_InChi.content.decode(\"utf-8\"))\n",
    "        file.write(content)"
   ]
  },
  {
   "cell_type": "code",
   "execution_count": null,
   "id": "73c0e48d",
   "metadata": {},
   "outputs": [],
   "source": [
    "#Note CAS ID of scraped spectra\n",
    "list_files=listdir(r'C:\\Users\\Karthik\\Desktop\\Spectra Identification\\IR') # Location of Scraped IR \n",
    "ok_cas=[]\n",
    "for files in list_files:\n",
    "    dummy=files.split('_')\n",
    "    ok_cas.append(dummy[1].split('.')[0])\n",
    "for val in ok_cas:\n",
    "    with open(r'C:\\Users\\Karthik\\Desktop\\Spectra Identification\\Scrapped_CAS.txt','a')  as file:\n",
    "        content='{}\\n'.format(val)\n",
    "        file.write(content)\n"
   ]
  },
  {
   "cell_type": "code",
   "execution_count": null,
   "id": "2d3acc34",
   "metadata": {},
   "outputs": [],
   "source": []
  }
 ],
 "metadata": {
  "kernelspec": {
   "display_name": "Python 3 (ipykernel)",
   "language": "python",
   "name": "python3"
  },
  "language_info": {
   "codemirror_mode": {
    "name": "ipython",
    "version": 3
   },
   "file_extension": ".py",
   "mimetype": "text/x-python",
   "name": "python",
   "nbconvert_exporter": "python",
   "pygments_lexer": "ipython3",
   "version": "3.9.12"
  }
 },
 "nbformat": 4,
 "nbformat_minor": 5
}
