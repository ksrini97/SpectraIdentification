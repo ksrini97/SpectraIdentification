{
 "cells": [
  {
   "cell_type": "code",
   "execution_count": null,
   "id": "9708274a",
   "metadata": {},
   "outputs": [],
   "source": [
    "from rdkit import Chem\n",
    "import pandas as pd\n",
    "import numpy as np"
   ]
  },
  {
   "cell_type": "code",
   "execution_count": null,
   "id": "b13b20da",
   "metadata": {},
   "outputs": [],
   "source": [
    "df = pd.read_csv(r'C:\\Users\\ks\\Desktop\\Spectra Identification\\InChI_new.txt',sep='\\t',header=None) # Path to file containing InChI of scraped spectra\n",
    "keys=df[1].to_list()\n",
    "cas=df[0].to_list()       \n",
    "print(len(keys),len(cas))"
   ]
  },
  {
   "cell_type": "code",
   "execution_count": null,
   "id": "678b8ac5",
   "metadata": {},
   "outputs": [],
   "source": [
    "alkane=Chem.MolFromSmarts('[CX4]')\n",
    "alkene=Chem.MolFromSmarts('[$([CX3]=[CX3])]')\n",
    "alkyne=Chem.MolFromSmarts('[$([CX2]#[CX2])]')\n",
    "arene=Chem.MolFromSmarts('[c]')\n",
    "ketone=Chem.MolFromSmarts('[#6][CX3](=[O])[#6]') \n",
    "aldehyde=Chem.MolFromSmarts('[CX3H1](=[O])')\n",
    "ester=Chem.MolFromSmarts('[#6][CX3](=[O])[OX2H0][#6]')\n",
    "acid=Chem.MolFromSmarts('[#6][CX3](=[O])[OX2H1]')\n",
    "alcohol=Chem.MolFromSmarts('[CHX4][OX2H]')\n",
    "amine=Chem.MolFromSmarts('[NX3;H2,H1;!$(NC=O)]')\n",
    "halide=Chem.MolFromSmarts('[CX4][F,Cl,Br,I]')\n",
    "ether=Chem.MolFromSmarts('[OD2]([#6])[#6]')\n",
    "nitro=Chem.MolFromSmarts('[$([NX3](=O)=O),$([NX3+](=O)[O-])][!#8]')\n"
   ]
  },
  {
   "cell_type": "code",
   "execution_count": null,
   "id": "f46f2ceb",
   "metadata": {},
   "outputs": [],
   "source": [
    "all_label=[]\n",
    "failure=[]\n",
    "num_generated=0\n",
    "id=0\n",
    "dict={}\n",
    "for val in keys:\n",
    "    label=[0]*14\n",
    "    try:\n",
    "        Molecule=Chem.inchi.MolFromInchi(val)\n",
    "    except:\n",
    "        \n",
    "        failure.append(cas[id])\n",
    "        id+=1\n",
    "        continue\n",
    "    if Molecule== None:\n",
    "        failure.append(cas[id])\n",
    "        id+=1\n",
    "        continue\n",
    "    if Molecule.HasSubstructMatch(alkane):\n",
    "            label[0]=1\n",
    "    if Molecule.HasSubstructMatch(alkene):\n",
    "        label[1]=1\n",
    "    if Molecule.HasSubstructMatch(alkyne):\n",
    "        label[2]=1\n",
    "    if Molecule.HasSubstructMatch(arene):\n",
    "        label[3]=1\n",
    "    if Molecule.HasSubstructMatch(ketone):\n",
    "        label[4]=1\n",
    "    if Molecule.HasSubstructMatch(aldehyde):\n",
    "        label[5]=1\n",
    "    if Molecule.HasSubstructMatch(ester):\n",
    "        label[6]=1\n",
    "    if Molecule.HasSubstructMatch(acid):\n",
    "        label[7]=1\n",
    "    if Molecule.HasSubstructMatch(alcohol):\n",
    "        label[8]=1\n",
    "    if Molecule.HasSubstructMatch(amine):\n",
    "        label[9]=1\n",
    "    if Molecule.HasSubstructMatch(halide):\n",
    "        label[10]=1\n",
    "    if Molecule.HasSubstructMatch(ether):\n",
    "        label[11]=1\n",
    "    if Molecule.HasSubstructMatch(nitro):\n",
    "        label[12]=1\n",
    "\n",
    "    num_generated+=1\n",
    "    print('Generated :',num_generated)\n",
    "    dict[cas[id]]=label\n",
    "    all_label.append(label)\n",
    "    id+=1\n",
    "    \n",
    "    \n",
    "df=pd.DataFrame(dict)\n",
    "df.to_csv('C:\\Users\\ks\\Desktop\\Spectra Identification\\Labels.csv')   # Modify to store labels at a different location  "
   ]
  },
  {
   "cell_type": "code",
   "execution_count": null,
   "id": "28cacba7",
   "metadata": {},
   "outputs": [],
   "source": []
  }
 ],
 "metadata": {
  "kernelspec": {
   "display_name": "Python 3 (ipykernel)",
   "language": "python",
   "name": "python3"
  },
  "language_info": {
   "codemirror_mode": {
    "name": "ipython",
    "version": 3
   },
   "file_extension": ".py",
   "mimetype": "text/x-python",
   "name": "python",
   "nbconvert_exporter": "python",
   "pygments_lexer": "ipython3",
   "version": "3.9.12"
  }
 },
 "nbformat": 4,
 "nbformat_minor": 5
}
