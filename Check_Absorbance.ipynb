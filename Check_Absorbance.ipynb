{
 "cells": [
  {
   "cell_type": "code",
   "execution_count": null,
   "id": "425bcd29",
   "metadata": {},
   "outputs": [],
   "source": [
    "import jcamp\n",
    "from os import listdir,path\n",
    "from numpy import log10\n",
    "import pandas as pd\n",
    "import matplotlib.pyplot as plt"
   ]
  },
  {
   "cell_type": "code",
   "execution_count": null,
   "id": "a957e943",
   "metadata": {},
   "outputs": [],
   "source": [
    "path = r'C:\\Users\\Karthik\\Desktop\\Spectra Identification\\Basis Spectra\n",
    "all_files=listdir(path)\n",
    "num_extracted=0\n",
    "for file in all_files:\n",
    "    data=jcamp.JCAMP_reader(path.join(path,file))\n",
    "    wavenumbers = data.get('x_units', r'N\\A').lower()!= 'micrometers'\n",
    "    absorbance = data.get('yunits', r'N\\A').lower()== 'absorbance'\n",
    "    print(data.get('yunits', r'N\\A').lower())\n",
    "    dummy=file.split('.')\n",
    "    name=dummy[0]\n",
    "    if wavenumbers==False:\n",
    "        lambda_X=10000/data['x']\n",
    "    else:\n",
    "        lambda_X=data['x']\n",
    "    if data.get('yunits', r'N\\A').lower()== 'reflectance':\n",
    "        print('Reflectance data found')\n",
    "        continue\n",
    "    if data['x'].shape!=data['y'].shape:\n",
    "        print('Shape mismatch')\n",
    "        continue\n",
    "    if (absorbance==False) &(data.get('yunits', r'N\\A').lower()!= 'reflectance') & (data.get('yunits', r'N\\A').lower()!='(micromol/mol)-1m-1 (base 10)'):\n",
    "        Y=data['y']\n",
    "        Y[Y<=0]=1e-04\n",
    "        abs_Y=2-log10(data['y']*100)\n",
    "    else:\n",
    "        abs_Y=data['y']\n",
    "    num_extracted+=1\n",
    "    print('Extracting CSV for {}. Total extracted: {}'.format(name,num_extracted))\n",
    "    newfile=path.join(path,name+'.csv')\n",
    "    dict={'x':lambda_X,'y':abs_Y}\n",
    "    df=pd.DataFrame(dict)\n",
    "    df.to_csv(newfile)\n",
    "    \n",
    "    "
   ]
  },
  {
   "cell_type": "code",
   "execution_count": null,
   "id": "398ea07f",
   "metadata": {},
   "outputs": [],
   "source": []
  }
 ],
 "metadata": {
  "kernelspec": {
   "display_name": "Python 3 (ipykernel)",
   "language": "python",
   "name": "python3"
  },
  "language_info": {
   "codemirror_mode": {
    "name": "ipython",
    "version": 3
   },
   "file_extension": ".py",
   "mimetype": "text/x-python",
   "name": "python",
   "nbconvert_exporter": "python",
   "pygments_lexer": "ipython3",
   "version": "3.9.12"
  }
 },
 "nbformat": 4,
 "nbformat_minor": 5
}
