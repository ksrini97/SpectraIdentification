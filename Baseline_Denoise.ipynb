{
 "cells": [
  {
   "cell_type": "code",
   "execution_count": null,
   "id": "df0a95b7",
   "metadata": {},
   "outputs": [],
   "source": [
    "from BaselineRemoval import BaselineRemoval\n",
    "from scipy.signal import savgol_filter\n",
    "from os import listdir,path\n",
    "import pandas as pd\n",
    "import numpy as np\n",
    "import matplotlib.pyplot as plt\n"
   ]
  },
  {
   "cell_type": "code",
   "execution_count": null,
   "id": "3bf51229",
   "metadata": {},
   "outputs": [],
   "source": [
    "path = r'C:\\Users\\ks\\Desktop\\Spectra Identification\\Bio_4comp.csv'\n",
    "df=pd.read_csv(path,header=0)\n",
    "keys=df.keys()\n",
    "wave=df['lambda'].to_numpy()\n"
   ]
  },
  {
   "cell_type": "code",
   "execution_count": null,
   "id": "42789c41",
   "metadata": {},
   "outputs": [],
   "source": [
    "dict={}\n",
    "dict['lambda']=wave\n",
    "num=0\n",
    "for key in keys[2:]:\n",
    "    data=df[key].to_numpy()\n",
    "\n",
    "    try:\n",
    "        data=savgol_filter(data,19,2)\n",
    "        print('Denoised :',num)\n",
    "    except:\n",
    "        pass\n",
    "    maximum=max(data)\n",
    "    minimum=min(data)\n",
    "    data=(data-minimum)/(maximum-minimum)\n",
    "    print(max(data),min(data))\n",
    "    dict[key]=data\n",
    "    num+=1"
   ]
  },
  {
   "cell_type": "code",
   "execution_count": null,
   "id": "68c186fc",
   "metadata": {},
   "outputs": [],
   "source": [
    "df=pd.DataFrame(dict)\n",
    "df.to_csv(path.join(path,'Denoised_Scaled.csv'),index=None)"
   ]
  },
  {
   "cell_type": "code",
   "execution_count": null,
   "id": "d54aa43f",
   "metadata": {},
   "outputs": [],
   "source": []
  }
 ],
 "metadata": {
  "kernelspec": {
   "display_name": "Python 3 (ipykernel)",
   "language": "python",
   "name": "python3"
  },
  "language_info": {
   "codemirror_mode": {
    "name": "ipython",
    "version": 3
   },
   "file_extension": ".py",
   "mimetype": "text/x-python",
   "name": "python",
   "nbconvert_exporter": "python",
   "pygments_lexer": "ipython3",
   "version": "3.9.12"
  }
 },
 "nbformat": 4,
 "nbformat_minor": 5
}
